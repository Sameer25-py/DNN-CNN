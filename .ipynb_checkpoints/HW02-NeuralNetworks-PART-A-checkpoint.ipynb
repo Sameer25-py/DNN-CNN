{
 "cells": [
  {
   "cell_type": "markdown",
   "metadata": {
    "id": "EzrPhOymqCG3"
   },
   "source": [
    "# EE5213/CS623 Assignment 2 - Part A - NN\n",
    "\n",
    "Before we start, please put your name and LUMS ID(8 digit) in the following cell."
   ]
  },
  {
   "cell_type": "code",
   "execution_count": 1,
   "metadata": {
    "id": "obGzJYmXqCHq"
   },
   "outputs": [],
   "source": [
    "rollnumber = 21100171\n",
    "name = \"Muhammad Sameer\"\n",
    "\n"
   ]
  },
  {
   "cell_type": "markdown",
   "metadata": {
    "id": "Th_AS4_9qCHr"
   },
   "source": [
    "### Instructions (IMPORTANT)\n",
    "\n",
    "When completing the notebook, please adhere to the following rules:\n",
    "- Do not write or modify any code outside of code blocks. (You can make copy of the notebook if you want to play with the code, but for the notebook you submit the code should remain un-modified).\n",
    "\n",
    "```python\n",
    "########### WRITE YOUR CODE BELOW ######\n",
    "\n",
    "print(\"Hello World\")\n",
    "\n",
    "########### END OF CODE ###############\n",
    "```\n",
    "\n",
    "- Do not add or delete any cells from the notebook. You may add new cells to perform scatch work, but delete them before submitting.\n",
    "- Run all cells before submitting. You will only get credit for code that has been run (for the output that has been shown in this notebook)."
   ]
  },
  {
   "cell_type": "markdown",
   "metadata": {
    "id": "0Y42ZN1zMAa_"
   },
   "source": [
    "# MALE/FEMALE Image Classification\n",
    "\n",
    "First thing first. Assignment seems difficult, but it is not. Purpose of this assignment is to give you the idea of different architectures of neural network and how to optimize the parameters. This also acts as foundation for you to understand the buzz word Deep Learning.\n",
    "\n",
    "In part A of the assignment we will configure the number of layers and nodes in a Neural Network (play with neural network structure). To train and test these neural networks we will use a subset of male and female face images from following kaggle dataset:\n",
    "\n",
    "https://www.kaggle.com/cashutosh/gender-classification-dataset"
   ]
  },
  {
   "cell_type": "markdown",
   "metadata": {
    "id": "UwCZGzAEqCHs"
   },
   "source": [
    "# Environment Setup\n",
    "\n",
    "\n",
    "Importing packages"
   ]
  },
  {
   "cell_type": "code",
   "execution_count": 2,
   "metadata": {
    "id": "MZQ0cdC_kgcT"
   },
   "outputs": [
    {
     "ename": "ModuleNotFoundError",
     "evalue": "No module named 'tensorflow'",
     "output_type": "error",
     "traceback": [
      "\u001b[1;31m---------------------------------------------------------------------------\u001b[0m",
      "\u001b[1;31mModuleNotFoundError\u001b[0m                       Traceback (most recent call last)",
      "\u001b[1;32m<ipython-input-2-6f8c9dc99e9b>\u001b[0m in \u001b[0;36m<module>\u001b[1;34m\u001b[0m\n\u001b[0;32m      2\u001b[0m \u001b[1;32mimport\u001b[0m \u001b[0mrandom\u001b[0m\u001b[1;33m\u001b[0m\u001b[1;33m\u001b[0m\u001b[0m\n\u001b[0;32m      3\u001b[0m \u001b[1;32mimport\u001b[0m \u001b[0mnumpy\u001b[0m \u001b[1;32mas\u001b[0m \u001b[0mnp\u001b[0m\u001b[1;33m\u001b[0m\u001b[1;33m\u001b[0m\u001b[0m\n\u001b[1;32m----> 4\u001b[1;33m \u001b[1;32mimport\u001b[0m \u001b[0mtensorflow\u001b[0m \u001b[1;32mas\u001b[0m \u001b[0mtf\u001b[0m\u001b[1;33m\u001b[0m\u001b[1;33m\u001b[0m\u001b[0m\n\u001b[0m\u001b[0;32m      5\u001b[0m \u001b[1;32mimport\u001b[0m \u001b[0mmatplotlib\u001b[0m\u001b[1;33m.\u001b[0m\u001b[0mpyplot\u001b[0m \u001b[1;32mas\u001b[0m \u001b[0mplt\u001b[0m\u001b[1;33m\u001b[0m\u001b[1;33m\u001b[0m\u001b[0m\n\u001b[0;32m      6\u001b[0m \u001b[1;32mfrom\u001b[0m \u001b[0mtensorflow\u001b[0m\u001b[1;33m.\u001b[0m\u001b[0mkeras\u001b[0m \u001b[1;32mimport\u001b[0m \u001b[0mmodels\u001b[0m\u001b[1;33m\u001b[0m\u001b[1;33m\u001b[0m\u001b[0m\n",
      "\u001b[1;31mModuleNotFoundError\u001b[0m: No module named 'tensorflow'"
     ]
    }
   ],
   "source": [
    "import os\n",
    "import random\n",
    "import numpy as np\n",
    "import tensorflow as tf\n",
    "import matplotlib.pyplot as plt\n",
    "from tensorflow.keras import models\n",
    "from tensorflow.keras import layers\n",
    "from tensorflow.keras import optimizers\n",
    "from mpl_toolkits.axes_grid1 import ImageGrid\n",
    "from skimage.io import imread_collection\n",
    "from sklearn.model_selection import train_test_split"
   ]
  },
  {
   "cell_type": "markdown",
   "metadata": {
    "id": "goS6sjeBFeaH"
   },
   "source": [
    "Run this cell if you are using Google Colab to run this notebook, otherwise comment this out. It is recommended that you use Colab because models can take some time durring learning, because of large dataset."
   ]
  },
  {
   "cell_type": "code",
   "execution_count": null,
   "metadata": {
    "id": "z_bfGd56komG"
   },
   "outputs": [],
   "source": [
    "from google.colab import drive\n",
    "drive.mount('/content/drive')\n",
    "\n",
    "# replace this your google drive path of the zip file of dataset provided with this homework\n",
    "!unzip -o -q \"/content/drive/MyDrive/CS623_HWA4AI/HW02/Data.zip\" -d \"/content\"\n",
    "\n",
    "dataset_dir = \"\""
   ]
  },
  {
   "cell_type": "markdown",
   "metadata": {
    "id": "RtGR-HZ3viE0"
   },
   "source": [
    "If you are running this in the <b>local enviroment</b>, then paste the folder path where you unzipped your dataset. "
   ]
  },
  {
   "cell_type": "code",
   "execution_count": null,
   "metadata": {
    "id": "aybGCr_PqCHv"
   },
   "outputs": [],
   "source": [
    "# dataset_dir = \"C:/Users/username/folder1/folder2/HW02\""
   ]
  },
  {
   "cell_type": "markdown",
   "metadata": {
    "id": "NBwrNa5iHBZ6"
   },
   "source": [
    "## Utility funcitons"
   ]
  },
  {
   "cell_type": "code",
   "execution_count": null,
   "metadata": {
    "id": "2iLYUuKKqCH4"
   },
   "outputs": [],
   "source": [
    "binary_classes = {0:\"Male\", 1:\"Female\"}"
   ]
  },
  {
   "cell_type": "markdown",
   "metadata": {
    "id": "SqQrg6CPqCH4"
   },
   "source": [
    "Given image matrix this will plot the random sample of images from it. "
   ]
  },
  {
   "cell_type": "code",
   "execution_count": null,
   "metadata": {
    "id": "xuggWqgvAZYb"
   },
   "outputs": [],
   "source": [
    "def diplay_sample_images(images, num_rows, num_cols, title_text):\n",
    "    image_list = []\n",
    "\n",
    "    for i in range(num_rows*num_cols):\n",
    "        rand_num = random.randint(0, len(images)-1)\n",
    "        image_list.append(images[rand_num])\n",
    "\n",
    "    fig = plt.figure(figsize=(num_cols*3., num_rows*3.), )\n",
    "    grid = ImageGrid(fig, 111, nrows_ncols=(num_rows, num_cols), axes_pad=0.15)\n",
    "\n",
    "    for ax, im in zip(grid, image_list):\n",
    "        ax.imshow(im)\n",
    "        ax.axis(\"off\")\n",
    "    \n",
    "    plt.suptitle(title_text, fontsize=20)\n",
    "    plt.show()"
   ]
  },
  {
   "cell_type": "markdown",
   "metadata": {
    "id": "MASdVQUsFeaO"
   },
   "source": [
    "Function which will help us plotting the training results."
   ]
  },
  {
   "cell_type": "code",
   "execution_count": null,
   "metadata": {
    "id": "NclwrRMwMAa_"
   },
   "outputs": [],
   "source": [
    "def graph_it(value, y_axis_label):\n",
    "    epochs = range(1, len(value)+1)\n",
    "    plt.plot(epochs, value, 'k')\n",
    "    plt.xlabel(\"Epochs\")\n",
    "    plt.ylabel(y_axis_label)\n",
    "    plt.show()"
   ]
  },
  {
   "cell_type": "markdown",
   "metadata": {
    "id": "eAu0kpcjrM5f"
   },
   "source": [
    "# Loading the data\n",
    "\n",
    "Tke kaggle dataset for part A resides in Data/dataset1 folder with over 11000 male/female images. We will now load these images and display some of them. Note that the images in this dataset are tight crops of the faces."
   ]
  },
  {
   "cell_type": "code",
   "execution_count": null,
   "metadata": {
    "id": "FeTeQcHjk4se"
   },
   "outputs": [],
   "source": [
    "# reading male images\n",
    "male_dir = os.path.join(dataset_dir, 'Data/dataset1/male/*.jpg')\n",
    "male_images = imread_collection(male_dir)\n",
    "\n",
    "# reading female images\n",
    "female_dir = os.path.join(dataset_dir, 'Data/dataset1/female/*.jpg')\n",
    "female_images = imread_collection(female_dir)\n",
    "\n",
    "# concatinating the both male and female image matrix\n",
    "images = np.row_stack((np.array(male_images), np.array(female_images)))\n",
    "\n",
    "print(\"Total instances Female class:\", len(female_images))\n",
    "print(\"Total instances male class:\", len(male_images))\n",
    "print(\"Total instances train instances:\", len(images))\n",
    "\n",
    "# displaying some sample images from dataset\n",
    "diplay_sample_images(images, 2, 5, \"Original Train Images (Without Augmentation)\")"
   ]
  },
  {
   "cell_type": "markdown",
   "metadata": {
    "id": "89bjNO9mMAbC"
   },
   "source": [
    "# Preprocess the Images\n",
    "\n",
    "Convert the images into standard form to feed it our models and generate outut labels.\n",
    "\n",
    "We will also split the into two sets - 80% of the images will be used for training and 20% will act as the test set."
   ]
  },
  {
   "cell_type": "code",
   "execution_count": null,
   "metadata": {
    "id": "Tp5YqS9rMAbC"
   },
   "outputs": [],
   "source": [
    "image_width = 80\n",
    "image_height = 100\n",
    "channels = 3"
   ]
  },
  {
   "cell_type": "code",
   "execution_count": null,
   "metadata": {
    "id": "-TTdpkg3V9oc"
   },
   "outputs": [],
   "source": [
    "number_of_data_instances = len(images)\n",
    "\n",
    "# normalizing\n",
    "X = images / 255.\n",
    "\n",
    "# creating y lables for images (0 for Male class, 1 for Female Class)\n",
    "male_labels = np.zeros((len(male_images), 1), dtype=np.int)\n",
    "female_labels = np.ones((len(female_images), 1), dtype=np.int)\n",
    "Y = np.row_stack((male_labels, female_labels))\n",
    "\n",
    "# shuffle the data instances\n",
    "permuations = np.random.permutation(number_of_data_instances)\n",
    "X = np.take(X, permuations, axis=0)\n",
    "Y = np.take(Y, permuations, axis=0)\n",
    "\n",
    "X_train, X_test, y_train, y_test = train_test_split(X, Y, test_size=0.2)\n",
    "\n",
    "print(X_train.shape)\n",
    "print(y_train.shape)\n",
    "print(X_test.shape)\n",
    "print(y_test.shape)"
   ]
  },
  {
   "cell_type": "markdown",
   "metadata": {
    "id": "CluYgMt0MAbG"
   },
   "source": [
    "We will implement the model as a multi-class classification problem with two output nodes (one for male and one for female). To do that we need to convert output lables into categorical features, such that for every label (binary) there are two entries."
   ]
  },
  {
   "cell_type": "code",
   "execution_count": null,
   "metadata": {
    "id": "Gin8zScxYZkq"
   },
   "outputs": [],
   "source": [
    "y_train_cat = tf.keras.utils.to_categorical(y_train, num_classes=2)\n",
    "y_test_cat = tf.keras.utils.to_categorical(y_test, num_classes=2)\n",
    "\n",
    "print(y_train.shape)\n",
    "print(y_test.shape)\n",
    "print(y_train_cat.shape)\n",
    "print(y_test_cat.shape)"
   ]
  },
  {
   "cell_type": "markdown",
   "metadata": {
    "id": "t3L0OntiMAbG"
   },
   "source": [
    "For simple neural network models you need your images flattened out. So this code just do that."
   ]
  },
  {
   "cell_type": "code",
   "execution_count": null,
   "metadata": {
    "id": "Mo6W-ycTYlcR"
   },
   "outputs": [],
   "source": [
    "X_train_flat = X_train.reshape(X_train.shape[0], image_height*image_width*channels)\n",
    "X_test_flat = X_test.reshape(X_test.shape[0], image_height*image_width*channels)\n",
    "\n",
    "print(X_train_flat.shape)\n",
    "print(X_test_flat.shape)"
   ]
  },
  {
   "cell_type": "markdown",
   "metadata": {
    "id": "n0Y84XM-V9oi"
   },
   "source": [
    "# Model 1 : Single-Layer Neural Network\n",
    "\n",
    "In this part you will create a simple model with single hidden layer in Keras and train it on the training set and test it on the test set."
   ]
  },
  {
   "cell_type": "markdown",
   "metadata": {
    "id": "J5Im95f6MAbH"
   },
   "source": [
    "### (Graded) Define your model in Keras\n",
    "\n",
    "- The model should have single hidden layer. \n",
    "- You can experiment with the number of neurons and see how well it performs. \n",
    "- The output layer will contain two neruons. \n",
    "- You must specify the loss funciton to use. \n",
    "- Also you need to select the training algorthm (optimizer), learning rate, batch size and number of epochs to use \n",
    "- And don't forget to compile your model.\n",
    "- Submit data for at least <b>5 different architectures</b> to demonstrate how the accuracy changes with number of neurons\n",
    "- For each of the architectures include number of neurons, optimizer used, learning ate, batch size, number of epochs and accuracy achieved\n",
    "- The final run that you submit should include the configuration with the highest accuracy you are able to achieve\n",
    "- Your final solution should achieve at least 90% accuracy on the test set. <b>Higher accuracy will earn higher score on the HW</b>"
   ]
  },
  {
   "cell_type": "code",
   "execution_count": null,
   "metadata": {
    "id": "YcH5gEr_qO10",
    "scrolled": true
   },
   "outputs": [],
   "source": [
    "model1 = None\n",
    "optimizer1 = None\n",
    "\n",
    "########### WRITE YOUR CODE BELOW ######\n",
    "\n",
    "\n",
    "########### END OF CODE ###############\n",
    "\n",
    "model1.summary()"
   ]
  },
  {
   "cell_type": "markdown",
   "metadata": {
    "id": "v0Q5FI6jMAbI"
   },
   "source": [
    "### (Graded) Train your model\n",
    "\n",
    "- Train the model by calling the fit function of the model you define above and pass the relevent trainign data and labels.\n",
    "- Record the training history in history_model1 returned by fit function. "
   ]
  },
  {
   "cell_type": "code",
   "execution_count": null,
   "metadata": {
    "collapsed": true,
    "id": "znIt0M0Vq8G4"
   },
   "outputs": [],
   "source": [
    "history_model1 = None\n",
    "\n",
    "########### WRITE YOUR CODE BELOW ######\n",
    "\n",
    "\n",
    "########### END OF CODE ###############"
   ]
  },
  {
   "cell_type": "markdown",
   "metadata": {
    "id": "5LEnSe1hMAbJ"
   },
   "source": [
    "Plotting the training history. "
   ]
  },
  {
   "cell_type": "code",
   "execution_count": null,
   "metadata": {
    "id": "Bke34LIPV9on"
   },
   "outputs": [],
   "source": [
    "accuracy1 = history_model1.history['accuracy']\n",
    "graph_it(accuracy1, \"Training Accuracy\")\n",
    "\n",
    "loss1 = history_model1.history['loss']\n",
    "graph_it(loss1, \"Training Loss\")"
   ]
  },
  {
   "cell_type": "markdown",
   "metadata": {
    "id": "2DrNbhNqMAbJ"
   },
   "source": [
    "### (Graded) Evaluate your model. \n",
    "\n",
    "This can be done by calling the evaluate funciton of your model with the relevent test data and labels. <b>You should be able to acheive test accuracy of at least $\\ge$ 90%."
   ]
  },
  {
   "cell_type": "code",
   "execution_count": null,
   "metadata": {
    "id": "pprZE6rYrDrV"
   },
   "outputs": [],
   "source": [
    "test_loss1 = 0\n",
    "test_acc1 = 0\n",
    "\n",
    "########### WRITE YOUR CODE BELOW ######\n",
    "\n",
    "\n",
    "########### END OF CODE ###############\n",
    "\n",
    "print('\\nTest accuracy:', test_acc1)\n",
    "print(\"Test Loss:\", test_loss1)"
   ]
  },
  {
   "cell_type": "markdown",
   "metadata": {
    "id": "MfvsqZxgrM5p"
   },
   "source": [
    "### (Graded) Insert your results in this cell\n",
    "\n",
    "For each of the 5 architectures you report, include number of neurons, optimizer used, learning rate, batch size, number of epochs and accuracy achieved\n",
    "\n",
    "########### WRITE YOUR RESULTS BELOW ######\n",
    "\n",
    "\n",
    "############## END OF RESULTS #############"
   ]
  },
  {
   "cell_type": "markdown",
   "metadata": {
    "id": "9YBC36AsJw1j"
   },
   "source": [
    "# Model 2 : Multi-layer Neural Network"
   ]
  },
  {
   "cell_type": "markdown",
   "metadata": {
    "id": "ZhqtbotZTJta"
   },
   "source": [
    "### (Graded) Define your model in Keras\n",
    "\n",
    "- The model should contain two or three hidden layers (you can experiment).\n",
    "- You can experiment with the number of neurons in each of these layers and numebr of layers see how well it performs. \n",
    "- The output layer will contain two neruons. \n",
    "- You must specify the loss funciton to use. \n",
    "- Also you need to select the training algorthm (optimizer), learning rate, batch size and number of epochs to use \n",
    "- And don't forget to compile your model.\n",
    "- Submit data for at least <b>3 different architectures</b> to demonstrate how the accuracy changes with different architecutres that you try\n",
    "- The final run that you submit should include the configuration with the highest accuracy you are able to achieve\n",
    "- Write your observations on how the multi-layer design performance compares to single layer design for this problem"
   ]
  },
  {
   "cell_type": "code",
   "execution_count": null,
   "metadata": {
    "id": "N2ToKO-XJw1r",
    "scrolled": false
   },
   "outputs": [],
   "source": [
    "model2 = None\n",
    "optimizer2 = None\n",
    "\n",
    "########### WRITE YOUR CODE BELOW ######\n",
    "\n",
    "\n",
    "########### END OF CODE ################\n",
    "\n",
    "model2.summary()"
   ]
  },
  {
   "cell_type": "markdown",
   "metadata": {
    "id": "yMQkVLKVTJtc"
   },
   "source": [
    "### (Graded) Train your model\n",
    "\n",
    "- Train the model by calling the fit function of the model you define above and pass the relevent trainign data and labels.\n",
    "- Record the training history in history_model2 returned by fit function. "
   ]
  },
  {
   "cell_type": "code",
   "execution_count": null,
   "metadata": {
    "id": "itEHIPpEJw1r",
    "scrolled": true
   },
   "outputs": [],
   "source": [
    "history_model2 = None\n",
    "\n",
    "########### WRITE YOUR CODE BELOW ######\n",
    "\n",
    "\n",
    "########### END OF CODE ################"
   ]
  },
  {
   "cell_type": "markdown",
   "metadata": {
    "id": "zjFDiHf7TJte"
   },
   "source": [
    "Plotting the training history. "
   ]
  },
  {
   "cell_type": "code",
   "execution_count": null,
   "metadata": {
    "id": "agazhvmqJw1u"
   },
   "outputs": [],
   "source": [
    "accuracy = history_model2.history['accuracy']\n",
    "loss = history_model2.history['loss']\n",
    "\n",
    "graph_it(accuracy, \"Training Accuracy\")\n",
    "graph_it(loss, \"Training Loss\")"
   ]
  },
  {
   "cell_type": "markdown",
   "metadata": {
    "id": "l_mOKytpZ-t8"
   },
   "source": [
    "### (Graded) Evaluate your model. \n",
    "\n",
    "This can be done by calling the evaluate funciton of your model with the relevent test data and labels. "
   ]
  },
  {
   "cell_type": "code",
   "execution_count": null,
   "metadata": {
    "id": "fZst3VMNZ-uG"
   },
   "outputs": [],
   "source": [
    "test_loss2 = 0\n",
    "test_acc2 = 0\n",
    "\n",
    "########### WRITE YOUR CODE BELOW ######\n",
    "\n",
    "\n",
    "########### END OF CODE ###############\n",
    "\n",
    "print('\\nTest accuracy:', test_acc2)\n",
    "print(\"Test Loss:\", test_loss2)"
   ]
  },
  {
   "cell_type": "markdown",
   "metadata": {
    "id": "zzfjgzZ_rM5t"
   },
   "source": [
    "### (Graded) Insert your results in this cell\n",
    "\n",
    "For each of the 3 architectures you report, include number of layers, neurons in each layer, optimizer used, learning rate, batch size, number of epochs and accuracy achieved.\n",
    "\n",
    "Also write your obeservations on how the multi-layer design compares against single layer design for this problem\n",
    "\n",
    "########### WRITE YOUR RESULTS BELOW ######\n",
    "\n",
    "\n",
    "############## END OF RESULTS #############"
   ]
  }
 ],
 "metadata": {
  "accelerator": "GPU",
  "colab": {
   "collapsed_sections": [],
   "name": "HW02-NeuralNetworks-PART-A.ipynb",
   "provenance": [],
   "toc_visible": true
  },
  "kernelspec": {
   "display_name": "Python 3",
   "language": "python",
   "name": "python3"
  },
  "language_info": {
   "codemirror_mode": {
    "name": "ipython",
    "version": 3
   },
   "file_extension": ".py",
   "mimetype": "text/x-python",
   "name": "python",
   "nbconvert_exporter": "python",
   "pygments_lexer": "ipython3",
   "version": "3.8.3"
  }
 },
 "nbformat": 4,
 "nbformat_minor": 1
}
